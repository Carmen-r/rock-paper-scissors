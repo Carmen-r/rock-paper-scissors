{
 "cells": [
  {
   "cell_type": "markdown",
   "metadata": {},
   "source": [
    "<img src=\"https://bit.ly/2VnXWr2\" width=\"100\" align=\"left\">"
   ]
  },
  {
   "cell_type": "markdown",
   "metadata": {},
   "source": [
    "# Rock, Paper & Scissors\n",
    "\n",
    "Let's play the famous game against our computer. You can check the rules [here](https://en.wikipedia.org/wiki/Rock%E2%80%93paper%E2%80%93scissors). \n",
    "\n",
    "## Task\n",
    "Create a program that imitates the playability of the well known game of rock, paper, scissors. Follow the guidelines provided.\n",
    "\n",
    "## Tools\n",
    "1. Loop: **for/while**\n",
    "2. Functions: **input(), print()...**\n",
    "3. Conditional statements: **if, elif, else**\n",
    "4. Definition of functions. Modular programming\n",
    "5. Import modules\n",
    "\n",
    "**To solve this challenge, the use of functions is recommended.**\n",
    "\n",
    "#### 1. Import the choice function of the random module."
   ]
  },
  {
   "cell_type": "code",
   "execution_count": 1,
   "metadata": {},
   "outputs": [],
   "source": [
    "import random\n",
    "import math"
   ]
  },
  {
   "cell_type": "markdown",
   "metadata": {},
   "source": [
    "#### 2. Create a list that includes the 3 possible gesture options of the game: 'rock', 'paper' or 'scissors'. Store the list in a variable called `gestures`."
   ]
  },
  {
   "cell_type": "code",
   "execution_count": 2,
   "metadata": {},
   "outputs": [],
   "source": [
    "gestures = [\"rock\", \"paper\", \"scissors\"]"
   ]
  },
  {
   "cell_type": "markdown",
   "metadata": {},
   "source": [
    "#### 3. Create a variable called `n_rounds` to store the maximum number of rounds to play in a game. \n",
    "Remember that the number of rounds must be odd: 1, 3, 5, ..."
   ]
  },
  {
   "cell_type": "code",
   "execution_count": 3,
   "metadata": {},
   "outputs": [
    {
     "name": "stdout",
     "output_type": "stream",
     "text": [
      "Enter the number of rounds: 4\n",
      "Please choose an odd number\n",
      "Enter an odd number: 5\n"
     ]
    }
   ],
   "source": [
    "n_rounds = int(input(\"Enter the number of rounds: \"))\n",
    "if n_rounds % 2 == 0:\n",
    "    print(\"Please choose an odd number\")\n",
    "    n_rounds = int(input(\"Enter an odd number: \"))"
   ]
  },
  {
   "cell_type": "markdown",
   "metadata": {},
   "source": [
    "#### 4. Create a variable called `rounds_to_win` to store the number of rounds that a player must win to win the game.\n",
    "**Hint**: the value stored in `rounds_to_win` depends on the value of `n_rounds`. "
   ]
  },
  {
   "cell_type": "code",
   "execution_count": 4,
   "metadata": {},
   "outputs": [
    {
     "name": "stdout",
     "output_type": "stream",
     "text": [
      "3\n"
     ]
    }
   ],
   "source": [
    "rounds_to_win = math.ceil(n_rounds / 2)\n",
    "print(rounds_to_win)"
   ]
  },
  {
   "cell_type": "markdown",
   "metadata": {},
   "source": [
    "#### 5. Create two variables to store the number of rounds that the computer and the player have won. Call these variables `cpu_score` and `player_score`."
   ]
  },
  {
   "cell_type": "code",
   "execution_count": 5,
   "metadata": {},
   "outputs": [],
   "source": [
    "cpu_score = 0 \n",
    "player_score = 0"
   ]
  },
  {
   "cell_type": "markdown",
   "metadata": {},
   "source": [
    "#### 6. Define a function that randomly returns one of the 3 gesture options.\n",
    "You will use this function to simulate the gesture choice of the computer. "
   ]
  },
  {
   "cell_type": "code",
   "execution_count": 6,
   "metadata": {},
   "outputs": [
    {
     "data": {
      "text/plain": [
       "'scissors'"
      ]
     },
     "execution_count": 6,
     "metadata": {},
     "output_type": "execute_result"
    }
   ],
   "source": [
    "def c_gesture():\n",
    "    \"\"\"\n",
    "    Simulate the gesture of the computer\n",
    "    Args:\n",
    "        No arguments\n",
    "    Return:\n",
    "        Randomly one of the 3 gesture options\n",
    "    \"\"\"\n",
    "    return random.choice(gestures)\n",
    "        \n",
    "c_gesture()"
   ]
  },
  {
   "cell_type": "markdown",
   "metadata": {},
   "source": [
    "#### 7. Define a function that asks the player which is the gesture he or she wants to show: 'rock', 'paper' or 'scissors'.\n",
    "The player should only be allowed to choose one of the 3 gesture options. If the player's choice is not rock, paper or scissors, keep asking until it is."
   ]
  },
  {
   "cell_type": "code",
   "execution_count": 7,
   "metadata": {},
   "outputs": [
    {
     "name": "stdout",
     "output_type": "stream",
     "text": [
      "Choose ONE of the three gesture options('rock', 'scissors', 'paper'): roc\n",
      "Please choose one of the options!!: \n",
      "Choose ONE of the three gesture options: rock\n"
     ]
    },
    {
     "data": {
      "text/plain": [
       "'rock'"
      ]
     },
     "execution_count": 7,
     "metadata": {},
     "output_type": "execute_result"
    }
   ],
   "source": [
    "def p_gesture():\n",
    "    \"\"\"\n",
    "    The player has to choose one of the 3 options: ('rock', 'scissors', 'paper')\n",
    "    Args:\n",
    "        No arguments\n",
    "    Return:\n",
    "        Ask the player which is the gesture he/she wants to show\n",
    "    \"\"\"\n",
    "    ask = input(\"Choose ONE of the three gesture options('rock', 'scissors', 'paper'): \")\n",
    "    if ask not in gestures:\n",
    "        print(\"Please choose one of the options!!: \")\n",
    "        ask = input(\"Choose ONE of the three gesture options: \")\n",
    "        \n",
    "    return ask\n",
    "\n",
    "p_gesture()    "
   ]
  },
  {
   "cell_type": "markdown",
   "metadata": {},
   "source": [
    "#### 8. Define a function that checks who won a round. \n",
    "The function should return 0 if there is a tie, 1 if the computer wins and 2 if the player wins."
   ]
  },
  {
   "cell_type": "code",
   "execution_count": 8,
   "metadata": {},
   "outputs": [
    {
     "data": {
      "text/plain": [
       "1"
      ]
     },
     "execution_count": 8,
     "metadata": {},
     "output_type": "execute_result"
    }
   ],
   "source": [
    "def winner(c_gesture, p_gesture):\n",
    "    \"\"\"\n",
    "    Check who won the round\n",
    "    Args:\n",
    "        c_gesture : simulate the gesture of the computer\n",
    "        p_gesture : simulate the gesture of the player\n",
    "    Return:\n",
    "        Tie = 0\n",
    "        Computer wins = 1\n",
    "        Player wins = 2\n",
    "    \"\"\"\n",
    "    if (c_gesture == \"rock\") and (p_gesture == \"rock\") or (c_gesture == \"scissors\") and (p_gesture == \"scissors\") or (c_gesture == \"paper\") and (p_gesture == \"paper\"):\n",
    "        return 0\n",
    "    elif (c_gesture == \"scissors\") and (p_gesture == \"paper\") or (c_gesture == \"paper\") and (p_gesture == \"rock\") or (c_gesture == \"rock\") and (p_gesture == \"scissors\"):\n",
    "        return 1\n",
    "    elif (p_gesture == \"paper\") and (c_gesture == \"rock\") or (p_gesture == \"scissors\") and (c_gesture == \"paper\") or (p_gesture == \"rock\") and (c_gesture == \"scissors\"):\n",
    "        return 2\n",
    "\n",
    "winner(\"rock\", \"scissors\")"
   ]
  },
  {
   "cell_type": "markdown",
   "metadata": {},
   "source": [
    "#### 9. Define a function that prints the choice of the computer, the choice of the player and a message that announces who won the current round. \n",
    "You should also use this function to update the variables that count the number of rounds that the computer and the player have won. The score of the winner increases by one point. If there is a tie, the score does not increase."
   ]
  },
  {
   "cell_type": "code",
   "execution_count": 9,
   "metadata": {},
   "outputs": [
    {
     "name": "stdout",
     "output_type": "stream",
     "text": [
      "Computer choice is: rock\n",
      "Player choice is: scissors\n",
      "Computer is the winner\n"
     ]
    }
   ],
   "source": [
    "def choice_cp(c_gesture, p_gesture, winner):\n",
    "    \"\"\"\n",
    "    Update the variables that count the number of rounds won\n",
    "    Args:\n",
    "        c_gesture : simulate the gesture of the computer\n",
    "        p_gesture : simulate the gesture of the player\n",
    "        winner : simulate who won the current round\n",
    "    Return:\n",
    "        Prints the choice of the computer, player and the winner\n",
    "    \"\"\"\n",
    "    print(\"Computer choice is:\", c_gesture)\n",
    "    print(\"Player choice is:\", p_gesture)\n",
    "    \n",
    "    if winner == 2:\n",
    "        print(\"Player is the winner\")\n",
    "    elif winner == 1:\n",
    "        print(\"Computer is the winner\")\n",
    "    else:\n",
    "        print(\"There is a tie\")\n",
    "    \n",
    "choice_cp(\"rock\", \"scissors\", 1)"
   ]
  },
  {
   "cell_type": "markdown",
   "metadata": {},
   "source": [
    "#### 10. Now it's time to code the execution of the game using the functions and variables you defined above. \n",
    "\n",
    "First, create a loop structure that repeats while no player reaches the minimum score necessary to win and the number of rounds is less than the maximum number of rounds to play in a game.  \n",
    "\n",
    "Inside the loop, use the functions and variables above to create the execution of a round: ask for the player's choice, generate the random choice of the computer, show the round results, update the scores, etc. "
   ]
  },
  {
   "cell_type": "code",
   "execution_count": 10,
   "metadata": {},
   "outputs": [
    {
     "name": "stdout",
     "output_type": "stream",
     "text": [
      "rock\n",
      "Choose ONE of the three gesture options('rock', 'scissors', 'paper'): roc\n",
      "Please choose one of the options!!: \n",
      "Choose ONE of the three gesture options: rock\n",
      "rock\n",
      "Computer choice is: rock\n",
      "Player choice is: rock\n",
      "There is a tie\n",
      "scissors\n",
      "Choose ONE of the three gesture options('rock', 'scissors', 'paper'): paper\n",
      "paper\n",
      "Computer choice is: scissors\n",
      "Player choice is: paper\n",
      "Computer is the winner\n",
      "paper\n",
      "Choose ONE of the three gesture options('rock', 'scissors', 'paper'): scissors\n",
      "scissors\n",
      "Computer choice is: paper\n",
      "Player choice is: scissors\n",
      "Player is the winner\n",
      "paper\n",
      "Choose ONE of the three gesture options('rock', 'scissors', 'paper'): rock\n",
      "rock\n",
      "Computer choice is: paper\n",
      "Player choice is: rock\n",
      "Computer is the winner\n",
      "scissors\n",
      "Choose ONE of the three gesture options('rock', 'scissors', 'paper'): rock\n",
      "rock\n",
      "Computer choice is: scissors\n",
      "Player choice is: rock\n",
      "Player is the winner\n",
      "paper\n",
      "Choose ONE of the three gesture options('rock', 'scissors', 'paper'): rock\n",
      "rock\n",
      "Computer choice is: paper\n",
      "Player choice is: rock\n",
      "Computer is the winner\n"
     ]
    }
   ],
   "source": [
    "while (cpu_score + player_score) < n_rounds:\n",
    "    cp = c_gesture()\n",
    "    print(cp)\n",
    "    pl = p_gesture()\n",
    "    print(pl)\n",
    "    win = winner(cp, pl)\n",
    "    if win == 2:\n",
    "        player_score += 1\n",
    "    elif win == 1:\n",
    "        cpu_score += 1\n",
    "    game = choice_cp(cp, pl, win)\n",
    "    "
   ]
  },
  {
   "cell_type": "markdown",
   "metadata": {},
   "source": [
    "#### 11. Print the winner of the game based on who won more rounds.\n",
    "Remember that the game might be tied. "
   ]
  },
  {
   "cell_type": "code",
   "execution_count": 11,
   "metadata": {},
   "outputs": [
    {
     "name": "stdout",
     "output_type": "stream",
     "text": [
      "CPU is the winner!!\n"
     ]
    }
   ],
   "source": [
    "if cpu_score >= rounds_to_win:\n",
    "    print(\"CPU is the winner!!\")\n",
    "else:\n",
    "    print(\"Player is the winner!!\")"
   ]
  }
 ],
 "metadata": {
  "kernelspec": {
   "display_name": "Python 3",
   "language": "python",
   "name": "python3"
  },
  "language_info": {
   "codemirror_mode": {
    "name": "ipython",
    "version": 3
   },
   "file_extension": ".py",
   "mimetype": "text/x-python",
   "name": "python",
   "nbconvert_exporter": "python",
   "pygments_lexer": "ipython3",
   "version": "3.7.6"
  }
 },
 "nbformat": 4,
 "nbformat_minor": 2
}
